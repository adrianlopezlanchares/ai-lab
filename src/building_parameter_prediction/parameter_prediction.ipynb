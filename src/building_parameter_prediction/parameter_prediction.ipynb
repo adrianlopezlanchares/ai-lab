{
 "cells": [
  {
   "cell_type": "code",
   "execution_count": 5,
   "id": "370bd9a8",
   "metadata": {},
   "outputs": [],
   "source": [
    "import pandas as pd\n",
    "\n",
    "import torch\n",
    "from torch.utils.data import DataLoader\n",
    "from torch.utils.tensorboard import SummaryWriter"
   ]
  },
  {
   "cell_type": "code",
   "execution_count": 6,
   "id": "42568566",
   "metadata": {},
   "outputs": [],
   "source": [
    "# Add project root to sys.path for module imports\n",
    "import sys\n",
    "import os\n",
    "\n",
    "project_root = os.path.abspath(os.path.join(os.getcwd(), \"..\", \"..\"))\n",
    "if project_root not in sys.path:\n",
    "    sys.path.insert(0, project_root)"
   ]
  },
  {
   "cell_type": "code",
   "execution_count": 7,
   "id": "668bc3fc",
   "metadata": {},
   "outputs": [],
   "source": [
    "from src.utils.data_processing import create_mlp_train_and_test_datasets, create_lr_train_and_test_datasets, process_weather_data\n",
    "from src.utils.models import MLP, LinearRegressionModel\n",
    "from src.utils.train_functions import train, evaluate, predict"
   ]
  },
  {
   "cell_type": "markdown",
   "id": "e2f0890e",
   "metadata": {},
   "source": [
    "# Load data"
   ]
  },
  {
   "cell_type": "markdown",
   "id": "1faa12c0",
   "metadata": {},
   "source": [
    "## Load parameter data"
   ]
  },
  {
   "cell_type": "code",
   "execution_count": 8,
   "id": "fdf6342f",
   "metadata": {},
   "outputs": [],
   "source": [
    "# Merge all dataframes\n",
    "building_parameters = pd.read_csv(\"/Users/cocoloco/Library/Mobile Documents/com~apple~CloudDocs/Documents/ICAI/4o/AI Lab/data/building_parameters/building_parameters.csv\")\n",
    "building_parameters.set_index(\"building_id\", inplace=True)"
   ]
  },
  {
   "cell_type": "code",
   "execution_count": 9,
   "id": "9bebf7ed",
   "metadata": {},
   "outputs": [
    {
     "data": {
      "text/html": [
       "<div>\n",
       "<style scoped>\n",
       "    .dataframe tbody tr th:only-of-type {\n",
       "        vertical-align: middle;\n",
       "    }\n",
       "\n",
       "    .dataframe tbody tr th {\n",
       "        vertical-align: top;\n",
       "    }\n",
       "\n",
       "    .dataframe thead th {\n",
       "        text-align: right;\n",
       "    }\n",
       "</style>\n",
       "<table border=\"1\" class=\"dataframe\">\n",
       "  <thead>\n",
       "    <tr style=\"text-align: right;\">\n",
       "      <th></th>\n",
       "      <th>indoor_temp_param</th>\n",
       "      <th>consumption_param</th>\n",
       "      <th>ambient_temp_param</th>\n",
       "      <th>direct_solar_radiation_param</th>\n",
       "      <th>ambient_temp_lag_param</th>\n",
       "    </tr>\n",
       "    <tr>\n",
       "      <th>building_id</th>\n",
       "      <th></th>\n",
       "      <th></th>\n",
       "      <th></th>\n",
       "      <th></th>\n",
       "      <th></th>\n",
       "    </tr>\n",
       "  </thead>\n",
       "  <tbody>\n",
       "    <tr>\n",
       "      <th>10</th>\n",
       "      <td>0.988916</td>\n",
       "      <td>0.163115</td>\n",
       "      <td>-0.074399</td>\n",
       "      <td>0.000153</td>\n",
       "      <td>0.083117</td>\n",
       "    </tr>\n",
       "    <tr>\n",
       "      <th>122</th>\n",
       "      <td>0.955652</td>\n",
       "      <td>1.843034</td>\n",
       "      <td>-0.022571</td>\n",
       "      <td>0.000265</td>\n",
       "      <td>0.067082</td>\n",
       "    </tr>\n",
       "    <tr>\n",
       "      <th>129</th>\n",
       "      <td>0.951854</td>\n",
       "      <td>1.661780</td>\n",
       "      <td>0.196741</td>\n",
       "      <td>-0.000472</td>\n",
       "      <td>-0.139513</td>\n",
       "    </tr>\n",
       "    <tr>\n",
       "      <th>150</th>\n",
       "      <td>0.975725</td>\n",
       "      <td>0.863512</td>\n",
       "      <td>-0.194279</td>\n",
       "      <td>0.000443</td>\n",
       "      <td>0.214467</td>\n",
       "    </tr>\n",
       "    <tr>\n",
       "      <th>183</th>\n",
       "      <td>0.924559</td>\n",
       "      <td>1.000348</td>\n",
       "      <td>-0.118723</td>\n",
       "      <td>0.000107</td>\n",
       "      <td>0.203062</td>\n",
       "    </tr>\n",
       "  </tbody>\n",
       "</table>\n",
       "</div>"
      ],
      "text/plain": [
       "             indoor_temp_param  consumption_param  ambient_temp_param  \\\n",
       "building_id                                                             \n",
       "10                    0.988916           0.163115           -0.074399   \n",
       "122                   0.955652           1.843034           -0.022571   \n",
       "129                   0.951854           1.661780            0.196741   \n",
       "150                   0.975725           0.863512           -0.194279   \n",
       "183                   0.924559           1.000348           -0.118723   \n",
       "\n",
       "             direct_solar_radiation_param  ambient_temp_lag_param  \n",
       "building_id                                                        \n",
       "10                               0.000153                0.083117  \n",
       "122                              0.000265                0.067082  \n",
       "129                             -0.000472               -0.139513  \n",
       "150                              0.000443                0.214467  \n",
       "183                              0.000107                0.203062  "
      ]
     },
     "execution_count": 9,
     "metadata": {},
     "output_type": "execute_result"
    }
   ],
   "source": [
    "building_parameters.head()"
   ]
  },
  {
   "cell_type": "code",
   "execution_count": 10,
   "id": "225540b7",
   "metadata": {},
   "outputs": [],
   "source": [
    "building_parameters.to_csv(\"/Users/cocoloco/Library/Mobile Documents/com~apple~CloudDocs/Documents/ICAI/4o/AI Lab/data/building_parameters/building_parameters.csv\")"
   ]
  },
  {
   "cell_type": "markdown",
   "id": "0ee1b3b0",
   "metadata": {},
   "source": [
    "## ResStock data"
   ]
  },
  {
   "cell_type": "code",
   "execution_count": 11,
   "id": "d95926cb",
   "metadata": {},
   "outputs": [],
   "source": [
    "processed_resstock = pd.read_csv(\"/Users/cocoloco/Library/Mobile Documents/com~apple~CloudDocs/Documents/ICAI/4o/AI Lab/data/resstock/resstock_processed.csv\")\n",
    "processed_resstock.set_index(\"bldg_id\", inplace=True)\n",
    "processed_resstock.sort_index(inplace=True)"
   ]
  },
  {
   "cell_type": "markdown",
   "id": "fcf3d89f",
   "metadata": {},
   "source": [
    "# Create datasets"
   ]
  },
  {
   "cell_type": "code",
   "execution_count": 15,
   "id": "e6727ec4",
   "metadata": {},
   "outputs": [],
   "source": [
    "train_dataset, test_dataset = create_mlp_train_and_test_datasets(\n",
    "    features=processed_resstock,\n",
    "    labels=building_parameters,\n",
    "    test_size=0.2,\n",
    ")"
   ]
  },
  {
   "cell_type": "code",
   "execution_count": 16,
   "id": "4d3e9e5d",
   "metadata": {},
   "outputs": [],
   "source": [
    "batch_size = 16\n",
    "\n",
    "train_loader = DataLoader(train_dataset, batch_size=batch_size, shuffle=True)\n",
    "test_loader = DataLoader(test_dataset, batch_size=batch_size, shuffle=False)"
   ]
  },
  {
   "cell_type": "markdown",
   "id": "63e12bc8",
   "metadata": {},
   "source": [
    "# Define model"
   ]
  },
  {
   "cell_type": "code",
   "execution_count": 17,
   "id": "73f5a677",
   "metadata": {},
   "outputs": [],
   "source": [
    "# HYPERPARAMETERS\n",
    "# model hyperparameters\n",
    "input_size = len(processed_resstock.columns)\n",
    "hidden_sizes = [64, 128, 128]\n",
    "output_size = len(building_parameters.columns)\n",
    "\n",
    "# training hyperparameters\n",
    "num_epochs = 60\n",
    "learning_rate = 0.0004\n",
    "\n",
    "device = torch.device(\"mps\" if torch.backends.mps.is_available() else \"cpu\")"
   ]
  },
  {
   "cell_type": "code",
   "execution_count": null,
   "id": "957b0c41",
   "metadata": {},
   "outputs": [],
   "source": [
    "parameter_prediction_model = MLP(\n",
    "    input_size=input_size,\n",
    "    hidden_sizes=hidden_sizes,\n",
    "    output_size=output_size,\n",
    ").to(device)"
   ]
  },
  {
   "cell_type": "code",
   "execution_count": null,
   "id": "6b50835d",
   "metadata": {},
   "outputs": [],
   "source": [
    "criterion = torch.nn.MSELoss()\n",
    "optimizer = torch.optim.Adam(parameter_prediction_model.parameters(), lr=learning_rate)"
   ]
  },
  {
   "cell_type": "markdown",
   "id": "0583d972",
   "metadata": {},
   "source": [
    "## Train model"
   ]
  },
  {
   "cell_type": "code",
   "execution_count": 21,
   "id": "f599a5ad",
   "metadata": {},
   "outputs": [],
   "source": [
    "model_name = \"parameter_prediction_model.pth\""
   ]
  },
  {
   "cell_type": "code",
   "execution_count": null,
   "id": "cd89b5bc",
   "metadata": {},
   "outputs": [],
   "source": [
    "writer = SummaryWriter(log_dir=f\"/Users/cocoloco/Library/Mobile Documents/com~apple~CloudDocs/Documents/ICAI/4o/AI Lab/runs/{model_name.replace('.pth', '')}\")"
   ]
  },
  {
   "cell_type": "code",
   "execution_count": null,
   "id": "0415d3df",
   "metadata": {},
   "outputs": [],
   "source": [
    "train(\n",
    "    model=parameter_prediction_model,\n",
    "    train_loader=train_loader,\n",
    "    criterion=criterion,\n",
    "    optimizer=optimizer,\n",
    "    num_epochs=num_epochs,\n",
    "    device=device,\n",
    "    writer=writer,\n",
    "    verbose=True\n",
    ")"
   ]
  },
  {
   "cell_type": "markdown",
   "id": "5f6f9e96",
   "metadata": {},
   "source": [
    "## Evaluate model"
   ]
  },
  {
   "cell_type": "code",
   "execution_count": null,
   "id": "9f8d3847",
   "metadata": {},
   "outputs": [],
   "source": [
    "eval_loss = evaluate(\n",
    "    model=parameter_prediction_model,\n",
    "    test_loader=test_loader,\n",
    "    criterion=criterion,\n",
    "    device=device,\n",
    ")"
   ]
  },
  {
   "cell_type": "code",
   "execution_count": null,
   "id": "452ce097",
   "metadata": {},
   "outputs": [],
   "source": [
    "eval_loss"
   ]
  },
  {
   "cell_type": "markdown",
   "id": "ffce8432",
   "metadata": {},
   "source": [
    "## Save model"
   ]
  },
  {
   "cell_type": "code",
   "execution_count": 22,
   "id": "368db284",
   "metadata": {},
   "outputs": [],
   "source": [
    "models_path = \"/Users/cocoloco/Library/Mobile Documents/com~apple~CloudDocs/Documents/ICAI/4o/AI Lab/models\"\n",
    "if not os.path.exists(models_path):\n",
    "    os.makedirs(models_path)"
   ]
  },
  {
   "cell_type": "code",
   "execution_count": null,
   "id": "1d571d59",
   "metadata": {},
   "outputs": [],
   "source": [
    "torch.save(parameter_prediction_model.state_dict(), os.path.join(models_path, model_name))\n",
    "writer.close()"
   ]
  },
  {
   "cell_type": "markdown",
   "id": "af386c19",
   "metadata": {},
   "source": [
    "## Load model"
   ]
  },
  {
   "cell_type": "code",
   "execution_count": 23,
   "id": "229cdf2f",
   "metadata": {},
   "outputs": [
    {
     "data": {
      "text/plain": [
       "<All keys matched successfully>"
      ]
     },
     "execution_count": 23,
     "metadata": {},
     "output_type": "execute_result"
    }
   ],
   "source": [
    "model = MLP(\n",
    "    input_size=input_size,\n",
    "    hidden_sizes=hidden_sizes,\n",
    "    output_size=output_size,\n",
    ").to(device)\n",
    "model.load_state_dict(torch.load(os.path.join(models_path, model_name)))"
   ]
  },
  {
   "cell_type": "markdown",
   "id": "e11e6180",
   "metadata": {},
   "source": [
    "## Predict"
   ]
  },
  {
   "cell_type": "code",
   "execution_count": 24,
   "id": "b53e0b81",
   "metadata": {},
   "outputs": [],
   "source": [
    "sequences, labels = test_dataset[0]"
   ]
  },
  {
   "cell_type": "code",
   "execution_count": 25,
   "id": "554783be",
   "metadata": {},
   "outputs": [],
   "source": [
    "predictions = predict(\n",
    "    model=model,\n",
    "    sequences=sequences,\n",
    "    device=device,\n",
    ")"
   ]
  },
  {
   "cell_type": "markdown",
   "id": "ff2f80e3",
   "metadata": {},
   "source": [
    "# Test against Linear Regression models"
   ]
  },
  {
   "cell_type": "markdown",
   "id": "2560acc8",
   "metadata": {},
   "source": [
    "## Load model parameters"
   ]
  },
  {
   "cell_type": "code",
   "execution_count": 26,
   "id": "f9b3d289",
   "metadata": {},
   "outputs": [],
   "source": [
    "actual_model = LinearRegressionModel(\n",
    "    input_size=5,\n",
    "    output_size=1,\n",
    "    bias=False,\n",
    ").to(device)\n",
    "\n",
    "predicted_model = LinearRegressionModel(\n",
    "    input_size=5,\n",
    "    output_size=1,\n",
    "    bias=False,\n",
    ").to(device)"
   ]
  },
  {
   "cell_type": "code",
   "execution_count": 27,
   "id": "6449d00f",
   "metadata": {},
   "outputs": [],
   "source": [
    "with torch.no_grad():\n",
    "    actual_model.linear.weight.copy_(labels)\n",
    "    predicted_model.linear.weight.copy_(predictions)"
   ]
  },
  {
   "cell_type": "code",
   "execution_count": 28,
   "id": "42411481",
   "metadata": {},
   "outputs": [],
   "source": [
    "predictions_bldg_id = building_parameters[building_parameters.values == labels.cpu().numpy()].dropna(how='all').index.item()"
   ]
  },
  {
   "cell_type": "markdown",
   "id": "8a1a8790",
   "metadata": {},
   "source": [
    "## Load data"
   ]
  },
  {
   "cell_type": "code",
   "execution_count": 29,
   "id": "b5ff6b2c",
   "metadata": {},
   "outputs": [
    {
     "name": "stderr",
     "output_type": "stream",
     "text": [
      "/Users/cocoloco/Library/Mobile Documents/com~apple~CloudDocs/Documents/ICAI/4o/AI Lab/src/utils/data_processing.py:78: SettingWithCopyWarning: \n",
      "A value is trying to be set on a copy of a slice from a DataFrame\n",
      "\n",
      "See the caveats in the documentation: https://pandas.pydata.org/pandas-docs/stable/user_guide/indexing.html#returning-a-view-versus-a-copy\n",
      "  weather.rename(columns={\"Dry Bulb Temperature [°C]\": \"temperature\"}, inplace=True)\n"
     ]
    }
   ],
   "source": [
    "resstock = pd.read_parquet(\n",
    "        \"/Users/cocoloco/Library/Mobile Documents/com~apple~CloudDocs/Documents/ICAI/4o/AI Lab/data/resstock/resstock.parquet\"\n",
    ")\n",
    "\n",
    "weather = pd.read_csv(\n",
    "    \"/Users/cocoloco/Library/Mobile Documents/com~apple~CloudDocs/Documents/ICAI/4o/AI Lab/data/weather/G2500170_2018.csv\",\n",
    ")\n",
    "\n",
    "weather = process_weather_data(weather)\n",
    "\n",
    "building_data_path = \"/Users/cocoloco/Library/Mobile Documents/com~apple~CloudDocs/Documents/ICAI/4o/AI Lab/data/building_data\"\n",
    "filename = f\"{predictions_bldg_id}-16.parquet\"\n",
    "building_data = pd.read_parquet(os.path.join(building_data_path, filename))"
   ]
  },
  {
   "cell_type": "code",
   "execution_count": null,
   "id": "da6e14db",
   "metadata": {},
   "outputs": [],
   "source": [
    "train_data, train_labels, _, _ = create_lr_train_and_test_datasets(\n",
    "                    building_data, resstock, weather, predictions_bldg_id\n",
    "                )"
   ]
  }
 ],
 "metadata": {
  "kernelspec": {
   "display_name": ".env",
   "language": "python",
   "name": "python3"
  },
  "language_info": {
   "codemirror_mode": {
    "name": "ipython",
    "version": 3
   },
   "file_extension": ".py",
   "mimetype": "text/x-python",
   "name": "python",
   "nbconvert_exporter": "python",
   "pygments_lexer": "ipython3",
   "version": "3.11.9"
  }
 },
 "nbformat": 4,
 "nbformat_minor": 5
}
