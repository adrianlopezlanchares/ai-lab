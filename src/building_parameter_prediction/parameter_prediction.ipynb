{
 "cells": [
  {
   "cell_type": "code",
   "execution_count": 1,
   "id": "370bd9a8",
   "metadata": {},
   "outputs": [],
   "source": [
    "import pandas as pd\n",
    "\n",
    "import torch\n",
    "from torch.utils.data import DataLoader\n",
    "from torch.utils.tensorboard import SummaryWriter"
   ]
  },
  {
   "cell_type": "code",
   "execution_count": 2,
   "id": "42568566",
   "metadata": {},
   "outputs": [],
   "source": [
    "# Add project root to sys.path for module imports\n",
    "import sys\n",
    "import os\n",
    "\n",
    "project_root = os.path.abspath(os.path.join(os.getcwd(), \"..\", \"..\"))\n",
    "if project_root not in sys.path:\n",
    "    sys.path.insert(0, project_root)"
   ]
  },
  {
   "cell_type": "code",
   "execution_count": 3,
   "id": "668bc3fc",
   "metadata": {},
   "outputs": [],
   "source": [
    "from src.utils.data_processing import create_train_and_test_datasets\n",
    "from src.utils.models import MLP\n",
    "from src.utils.train_functions import train, evaluate"
   ]
  },
  {
   "cell_type": "markdown",
   "id": "e2f0890e",
   "metadata": {},
   "source": [
    "# Load data"
   ]
  },
  {
   "cell_type": "markdown",
   "id": "1faa12c0",
   "metadata": {},
   "source": [
    "## Load parameter data"
   ]
  },
  {
   "cell_type": "code",
   "execution_count": 86,
   "id": "5cdced8a",
   "metadata": {},
   "outputs": [],
   "source": [
    "bp_55 = pd.read_csv(\"/Users/cocoloco/Library/Mobile Documents/com~apple~CloudDocs/Documents/ICAI/4o/AI Lab/data/building_parameters/building_parameters_0_55.csv\")\n",
    "bp_2090 = pd.read_csv(\"/Users/cocoloco/Library/Mobile Documents/com~apple~CloudDocs/Documents/ICAI/4o/AI Lab/data/building_parameters/building_parameters_55_2090.csv\")\n",
    "bp_4196 = pd.read_csv(\"/Users/cocoloco/Library/Mobile Documents/com~apple~CloudDocs/Documents/ICAI/4o/AI Lab/data/building_parameters/building_parameters_2090_4196.csv\")\n",
    "bp_8209 = pd.read_csv(\"/Users/cocoloco/Library/Mobile Documents/com~apple~CloudDocs/Documents/ICAI/4o/AI Lab/data/building_parameters/building_parameters_4196_8209.csv\")\n",
    "\n",
    "bp_55.set_index(\"building_id\", inplace=True)\n",
    "bp_2090.set_index(\"building_id\", inplace=True)\n",
    "bp_4196.set_index(\"building_id\", inplace=True)\n",
    "bp_8209.set_index(\"building_id\", inplace=True)"
   ]
  },
  {
   "cell_type": "code",
   "execution_count": 90,
   "id": "fdf6342f",
   "metadata": {},
   "outputs": [],
   "source": [
    "# Merge all dataframes\n",
    "building_parameters = pd.concat([bp_55, bp_2090, bp_4196, bp_8209], axis=0)\n",
    "building_parameters.drop(columns=[\"Unnamed: 0\"], inplace=True)"
   ]
  },
  {
   "cell_type": "markdown",
   "id": "0ee1b3b0",
   "metadata": {},
   "source": [
    "## ResStock data"
   ]
  },
  {
   "cell_type": "code",
   "execution_count": 91,
   "id": "d95926cb",
   "metadata": {},
   "outputs": [],
   "source": [
    "processed_resstock = pd.read_csv(\"/Users/cocoloco/Library/Mobile Documents/com~apple~CloudDocs/Documents/ICAI/4o/AI Lab/data/resstock/resstock_processed.csv\")\n",
    "processed_resstock.set_index(\"bldg_id\", inplace=True)"
   ]
  },
  {
   "cell_type": "code",
   "execution_count": 92,
   "id": "cab7de9c",
   "metadata": {},
   "outputs": [],
   "source": [
    "# only include resstock rows whose index is in building_parameters\n",
    "processed_resstock = processed_resstock[processed_resstock.index.isin(building_parameters.index)]"
   ]
  },
  {
   "cell_type": "markdown",
   "id": "fcf3d89f",
   "metadata": {},
   "source": [
    "# Create datasets"
   ]
  },
  {
   "cell_type": "code",
   "execution_count": 93,
   "id": "e6727ec4",
   "metadata": {},
   "outputs": [],
   "source": [
    "train_dataset, test_dataset = create_train_and_test_datasets(\n",
    "    features=processed_resstock,\n",
    "    labels=building_parameters,\n",
    "    test_size=0.2,\n",
    ")"
   ]
  },
  {
   "cell_type": "code",
   "execution_count": 94,
   "id": "4d3e9e5d",
   "metadata": {},
   "outputs": [],
   "source": [
    "batch_size = 32\n",
    "\n",
    "train_loader = DataLoader(train_dataset, batch_size=batch_size, shuffle=True)\n",
    "test_loader = DataLoader(test_dataset, batch_size=batch_size, shuffle=False)"
   ]
  },
  {
   "cell_type": "markdown",
   "id": "63e12bc8",
   "metadata": {},
   "source": [
    "# Define model"
   ]
  },
  {
   "cell_type": "code",
   "execution_count": 95,
   "id": "73f5a677",
   "metadata": {},
   "outputs": [],
   "source": [
    "# HYPERPARAMETERS\n",
    "# model hyperparameters\n",
    "input_size = len(processed_resstock.columns)\n",
    "hidden_sizes = [32, 64, 16]\n",
    "output_size = len(building_parameters.columns)\n",
    "\n",
    "# training hyperparameters\n",
    "num_epochs = 50\n",
    "learning_rate = 0.001\n",
    "\n",
    "device = torch.device(\"mps\" if torch.backends.mps.is_available() else \"cpu\")"
   ]
  },
  {
   "cell_type": "code",
   "execution_count": 96,
   "id": "957b0c41",
   "metadata": {},
   "outputs": [],
   "source": [
    "parameter_prediction_model = MLP(\n",
    "    input_size=input_size,\n",
    "    hidden_sizes=hidden_sizes,\n",
    "    output_size=output_size,\n",
    ").to(device)"
   ]
  },
  {
   "cell_type": "code",
   "execution_count": 97,
   "id": "6b50835d",
   "metadata": {},
   "outputs": [],
   "source": [
    "criterion = torch.nn.MSELoss()\n",
    "optimizer = torch.optim.Adam(parameter_prediction_model.parameters(), lr=learning_rate)"
   ]
  },
  {
   "cell_type": "markdown",
   "id": "0583d972",
   "metadata": {},
   "source": [
    "# Train model"
   ]
  },
  {
   "cell_type": "code",
   "execution_count": 98,
   "id": "f599a5ad",
   "metadata": {},
   "outputs": [],
   "source": [
    "model_name = \"parameter_prediction_model_1.pth\"\n",
    "writer = SummaryWriter(log_dir=f\"/Users/cocoloco/Library/Mobile Documents/com~apple~CloudDocs/Documents/ICAI/4o/AI Lab/runs/{model_name.replace('.pth', '')}\")"
   ]
  },
  {
   "cell_type": "code",
   "execution_count": 99,
   "id": "0415d3df",
   "metadata": {},
   "outputs": [
    {
     "name": "stdout",
     "output_type": "stream",
     "text": [
      "Epoch 50/50, Step 1/206       \r"
     ]
    }
   ],
   "source": [
    "train(\n",
    "    model=parameter_prediction_model,\n",
    "    train_loader=train_loader,\n",
    "    criterion=criterion,\n",
    "    optimizer=optimizer,\n",
    "    num_epochs=num_epochs,\n",
    "    device=device,\n",
    "    writer=writer,\n",
    "    verbose=True\n",
    ")"
   ]
  },
  {
   "cell_type": "markdown",
   "id": "5f6f9e96",
   "metadata": {},
   "source": [
    "# Evaluate model"
   ]
  },
  {
   "cell_type": "code",
   "execution_count": 100,
   "id": "9f8d3847",
   "metadata": {},
   "outputs": [],
   "source": [
    "eval_loss = evaluate(\n",
    "    model=parameter_prediction_model,\n",
    "    test_loader=test_loader,\n",
    "    criterion=criterion,\n",
    "    device=device,\n",
    ")"
   ]
  },
  {
   "cell_type": "code",
   "execution_count": 101,
   "id": "452ce097",
   "metadata": {},
   "outputs": [
    {
     "data": {
      "text/plain": [
       "0.03997972818951194"
      ]
     },
     "execution_count": 101,
     "metadata": {},
     "output_type": "execute_result"
    }
   ],
   "source": [
    "eval_loss"
   ]
  }
 ],
 "metadata": {
  "kernelspec": {
   "display_name": ".env",
   "language": "python",
   "name": "python3"
  },
  "language_info": {
   "codemirror_mode": {
    "name": "ipython",
    "version": 3
   },
   "file_extension": ".py",
   "mimetype": "text/x-python",
   "name": "python",
   "nbconvert_exporter": "python",
   "pygments_lexer": "ipython3",
   "version": "3.11.9"
  }
 },
 "nbformat": 4,
 "nbformat_minor": 5
}
