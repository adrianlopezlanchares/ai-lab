{
 "cells": [
  {
   "cell_type": "code",
   "execution_count": 1,
   "id": "966194ce",
   "metadata": {},
   "outputs": [],
   "source": [
    "import pandas as pd\n",
    "\n",
    "from data_processing import *"
   ]
  },
  {
   "cell_type": "code",
   "execution_count": 5,
   "id": "99c2c4ab",
   "metadata": {},
   "outputs": [],
   "source": [
    "building = load_and_process_building(\"/Users/adrian/Documents/ICAI/4o/AI Lab/data/buildings/188-16.parquet\")\n",
    "building2 = load_and_process_building(\"/Users/adrian/Documents/ICAI/4o/AI Lab/data/buildings/192-16.parquet\")"
   ]
  },
  {
   "cell_type": "code",
   "execution_count": 12,
   "id": "46809352",
   "metadata": {},
   "outputs": [
    {
     "data": {
      "text/plain": [
       "35040"
      ]
     },
     "execution_count": 12,
     "metadata": {},
     "output_type": "execute_result"
    }
   ],
   "source": [
    "len(building2)"
   ]
  },
  {
   "cell_type": "code",
   "execution_count": 10,
   "id": "af9b0b81",
   "metadata": {},
   "outputs": [
    {
     "data": {
      "text/plain": [
       "35040"
      ]
     },
     "execution_count": 10,
     "metadata": {},
     "output_type": "execute_result"
    }
   ],
   "source": [
    "len(building)"
   ]
  },
  {
   "cell_type": "code",
   "execution_count": 7,
   "id": "e1983b1a",
   "metadata": {},
   "outputs": [],
   "source": [
    "buildings = pd.concat([building, building2], ignore_index=True)"
   ]
  },
  {
   "cell_type": "code",
   "execution_count": 13,
   "id": "55651a7a",
   "metadata": {},
   "outputs": [
    {
     "data": {
      "text/html": [
       "<div>\n",
       "<style scoped>\n",
       "    .dataframe tbody tr th:only-of-type {\n",
       "        vertical-align: middle;\n",
       "    }\n",
       "\n",
       "    .dataframe tbody tr th {\n",
       "        vertical-align: top;\n",
       "    }\n",
       "\n",
       "    .dataframe thead th {\n",
       "        text-align: right;\n",
       "    }\n",
       "</style>\n",
       "<table border=\"1\" class=\"dataframe\">\n",
       "  <thead>\n",
       "    <tr style=\"text-align: right;\">\n",
       "      <th></th>\n",
       "      <th>timestamp</th>\n",
       "      <th>indoor_temp</th>\n",
       "    </tr>\n",
       "  </thead>\n",
       "  <tbody>\n",
       "    <tr>\n",
       "      <th>35035</th>\n",
       "      <td>2018-12-31 23:00:00</td>\n",
       "      <td>21.111111</td>\n",
       "    </tr>\n",
       "    <tr>\n",
       "      <th>35036</th>\n",
       "      <td>2018-12-31 23:15:00</td>\n",
       "      <td>21.111111</td>\n",
       "    </tr>\n",
       "    <tr>\n",
       "      <th>35037</th>\n",
       "      <td>2018-12-31 23:30:00</td>\n",
       "      <td>21.111111</td>\n",
       "    </tr>\n",
       "    <tr>\n",
       "      <th>35038</th>\n",
       "      <td>2018-12-31 23:45:00</td>\n",
       "      <td>21.111111</td>\n",
       "    </tr>\n",
       "    <tr>\n",
       "      <th>35039</th>\n",
       "      <td>2019-01-01 00:00:00</td>\n",
       "      <td>21.111111</td>\n",
       "    </tr>\n",
       "    <tr>\n",
       "      <th>35040</th>\n",
       "      <td>2018-01-01 00:15:00</td>\n",
       "      <td>15.226654</td>\n",
       "    </tr>\n",
       "    <tr>\n",
       "      <th>35041</th>\n",
       "      <td>2018-01-01 00:30:00</td>\n",
       "      <td>14.953407</td>\n",
       "    </tr>\n",
       "    <tr>\n",
       "      <th>35042</th>\n",
       "      <td>2018-01-01 00:45:00</td>\n",
       "      <td>14.681111</td>\n",
       "    </tr>\n",
       "    <tr>\n",
       "      <th>35043</th>\n",
       "      <td>2018-01-01 01:00:00</td>\n",
       "      <td>14.409190</td>\n",
       "    </tr>\n",
       "    <tr>\n",
       "      <th>35044</th>\n",
       "      <td>2018-01-01 01:15:00</td>\n",
       "      <td>14.217419</td>\n",
       "    </tr>\n",
       "  </tbody>\n",
       "</table>\n",
       "</div>"
      ],
      "text/plain": [
       "                timestamp  indoor_temp\n",
       "35035 2018-12-31 23:00:00    21.111111\n",
       "35036 2018-12-31 23:15:00    21.111111\n",
       "35037 2018-12-31 23:30:00    21.111111\n",
       "35038 2018-12-31 23:45:00    21.111111\n",
       "35039 2019-01-01 00:00:00    21.111111\n",
       "35040 2018-01-01 00:15:00    15.226654\n",
       "35041 2018-01-01 00:30:00    14.953407\n",
       "35042 2018-01-01 00:45:00    14.681111\n",
       "35043 2018-01-01 01:00:00    14.409190\n",
       "35044 2018-01-01 01:15:00    14.217419"
      ]
     },
     "execution_count": 13,
     "metadata": {},
     "output_type": "execute_result"
    }
   ],
   "source": [
    "buildings.iloc[35035:35045]"
   ]
  }
 ],
 "metadata": {
  "kernelspec": {
   "display_name": ".env",
   "language": "python",
   "name": "python3"
  },
  "language_info": {
   "codemirror_mode": {
    "name": "ipython",
    "version": 3
   },
   "file_extension": ".py",
   "mimetype": "text/x-python",
   "name": "python",
   "nbconvert_exporter": "python",
   "pygments_lexer": "ipython3",
   "version": "3.10.11"
  }
 },
 "nbformat": 4,
 "nbformat_minor": 5
}
