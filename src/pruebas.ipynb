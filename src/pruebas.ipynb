{
 "cells": [
  {
   "cell_type": "code",
   "execution_count": null,
   "id": "966194ce",
   "metadata": {},
   "outputs": [],
   "source": [
    "import pandas as pd\n",
    "import pickle\n",
    "\n",
    "from data_processing import create_windows"
   ]
  },
  {
   "cell_type": "markdown",
   "id": "a4b8272a",
   "metadata": {},
   "source": [
    "# Load data"
   ]
  },
  {
   "cell_type": "markdown",
   "id": "356120a1",
   "metadata": {},
   "source": [
    "## ResStock"
   ]
  },
  {
   "cell_type": "code",
   "execution_count": null,
   "id": "65dd2732",
   "metadata": {},
   "outputs": [],
   "source": [
    "resstock_processed = pd.read_csv(\"/Users/adrian/Documents/ICAI/4o/AI Lab/data/resstock_processed.csv\")\n",
    "resstock_processed.set_index(\"bldg_id\", inplace=True)"
   ]
  },
  {
   "cell_type": "markdown",
   "id": "549c8caa",
   "metadata": {},
   "source": [
    "## Buildings Timeseries"
   ]
  },
  {
   "cell_type": "code",
   "execution_count": null,
   "id": "681dbc99",
   "metadata": {},
   "outputs": [],
   "source": [
    "buildings1 = pd.read_csv(\"/Users/adrian/Documents/ICAI/4o/AI Lab/data/processed_buildings/buildings_tanda1.csv\")"
   ]
  },
  {
   "cell_type": "markdown",
   "id": "be482b3b",
   "metadata": {},
   "source": [
    "# Create Windows"
   ]
  },
  {
   "cell_type": "code",
   "execution_count": null,
   "id": "68d1c241",
   "metadata": {},
   "outputs": [],
   "source": [
    "windows1 = create_windows(buildings1, resstock_processed, window_size=8)"
   ]
  },
  {
   "cell_type": "code",
   "execution_count": null,
   "id": "6a0c60e8",
   "metadata": {},
   "outputs": [],
   "source": [
    "# Save to pickle file\n",
    "with open(\"/Users/adrian/Documents/ICAI/4o/AI Lab/data/training_windows/windows1.pkl\", \"wb\") as f:\n",
    "    pickle.dump(windows1, f)"
   ]
  }
 ],
 "metadata": {
  "kernelspec": {
   "display_name": ".env",
   "language": "python",
   "name": "python3"
  },
  "language_info": {
   "codemirror_mode": {
    "name": "ipython",
    "version": 3
   },
   "file_extension": ".py",
   "mimetype": "text/x-python",
   "name": "python",
   "nbconvert_exporter": "python",
   "pygments_lexer": "ipython3",
   "version": "3.10.11"
  }
 },
 "nbformat": 4,
 "nbformat_minor": 5
}
