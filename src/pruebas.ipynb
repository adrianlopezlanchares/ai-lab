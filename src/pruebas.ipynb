{
 "cells": [
  {
   "cell_type": "code",
   "execution_count": null,
   "id": "966194ce",
   "metadata": {},
   "outputs": [],
   "source": [
    "import pandas as pd\n",
    "\n",
    "from data_processing import load_and_process_all_buildings, process_resstock_data"
   ]
  },
  {
   "cell_type": "markdown",
   "id": "a4b8272a",
   "metadata": {},
   "source": [
    "# Load data"
   ]
  },
  {
   "cell_type": "markdown",
   "id": "356120a1",
   "metadata": {},
   "source": [
    "## ResStock"
   ]
  },
  {
   "cell_type": "code",
   "execution_count": null,
   "id": "65dd2732",
   "metadata": {},
   "outputs": [],
   "source": [
    "resstock = pd.read_parquet(\"/Users/adrian/Documents/ICAI/4o/AI Lab/data/MA_baseline_metadata_and_annual_results.parquet\")"
   ]
  },
  {
   "cell_type": "markdown",
   "id": "549c8caa",
   "metadata": {},
   "source": [
    "## Buildings Timeseries"
   ]
  },
  {
   "cell_type": "code",
   "execution_count": null,
   "id": "440ba8b6",
   "metadata": {},
   "outputs": [
    {
     "name": "stdout",
     "output_type": "stream",
     "text": [
      "Processing file 4246/11708                  \r"
     ]
    }
   ],
   "source": [
    "buildings = load_and_process_all_buildings(resstock)"
   ]
  },
  {
   "cell_type": "markdown",
   "id": "fb6c6e10",
   "metadata": {},
   "source": [
    "## Weather data"
   ]
  },
  {
   "cell_type": "code",
   "execution_count": null,
   "id": "2449c098",
   "metadata": {},
   "outputs": [],
   "source": [
    "weather_data = pd.read_csv(\"/Users/adrian/Documents/ICAI/4o/AI Lab/data/G2500170_2018.csv\")"
   ]
  },
  {
   "cell_type": "markdown",
   "id": "be482b3b",
   "metadata": {},
   "source": [
    "# Process data"
   ]
  },
  {
   "cell_type": "markdown",
   "id": "12c1526f",
   "metadata": {},
   "source": [
    "## ResStock"
   ]
  },
  {
   "cell_type": "code",
   "execution_count": null,
   "id": "9cee38bd",
   "metadata": {},
   "outputs": [],
   "source": [
    "resstock_processed = process_resstock_data(resstock)"
   ]
  },
  {
   "cell_type": "markdown",
   "id": "92cdddcb",
   "metadata": {},
   "source": [
    "## Weather"
   ]
  },
  {
   "cell_type": "code",
   "execution_count": null,
   "id": "7c6f0122",
   "metadata": {},
   "outputs": [],
   "source": [
    "# Change date time column name to timestamp\n",
    "weather_data.rename(columns={'date_time': \"timestamp\"}, inplace=True)\n",
    "weather_data.set_index('timestamp', inplace=True)\n",
    "weather_data.index = pd.to_datetime(weather_data.index)"
   ]
  },
  {
   "cell_type": "code",
   "execution_count": null,
   "id": "3dcd6933",
   "metadata": {},
   "outputs": [],
   "source": [
    "# Delete all columns except dry bulb temperature and direct normal radiation\n",
    "weather_data = weather_data[[\"Dry Bulb Temperature [°C]\", \"Direct Normal Radiation [W/m2]\"]]\n",
    "weather_data.rename(columns={\"Dry Bulb Temperature [°C]\": \"temperature\"}, inplace=True)"
   ]
  },
  {
   "cell_type": "code",
   "execution_count": null,
   "id": "d017a537",
   "metadata": {},
   "outputs": [],
   "source": [
    "# Create an entry for 2018-01-01 00:00:00\n",
    "new_row = pd.DataFrame({'temperature': weather_data.iloc[0]['temperature']}, index=[pd.to_datetime('2018-01-01 00:00:00')])\n",
    "weather_data = pd.concat([new_row, weather_data])"
   ]
  },
  {
   "cell_type": "code",
   "execution_count": null,
   "id": "bae8a5a5",
   "metadata": {},
   "outputs": [],
   "source": [
    "weather_data.bfill(inplace=True)\n",
    "weather_data.ffill(inplace=True)"
   ]
  }
 ],
 "metadata": {
  "kernelspec": {
   "display_name": ".env",
   "language": "python",
   "name": "python3"
  },
  "language_info": {
   "codemirror_mode": {
    "name": "ipython",
    "version": 3
   },
   "file_extension": ".py",
   "mimetype": "text/x-python",
   "name": "python",
   "nbconvert_exporter": "python",
   "pygments_lexer": "ipython3",
   "version": "3.10.11"
  }
 },
 "nbformat": 4,
 "nbformat_minor": 5
}
