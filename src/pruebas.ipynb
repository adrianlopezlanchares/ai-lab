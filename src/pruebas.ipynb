{
 "cells": [
  {
   "cell_type": "code",
   "execution_count": null,
   "id": "966194ce",
   "metadata": {},
   "outputs": [],
   "source": [
    "import pandas as pd\n",
    "import pickle\n",
    "\n",
    "from data_processing import create_windows"
   ]
  },
  {
   "cell_type": "markdown",
   "id": "a4b8272a",
   "metadata": {},
   "source": [
    "# Load data"
   ]
  },
  {
   "cell_type": "markdown",
   "id": "356120a1",
   "metadata": {},
   "source": [
    "## ResStock"
   ]
  },
  {
   "cell_type": "code",
   "execution_count": null,
   "id": "65dd2732",
   "metadata": {},
   "outputs": [],
   "source": [
    "resstock_processed = pd.read_csv(\"./data/resstock_processed.csv\")"
   ]
  },
  {
   "cell_type": "markdown",
   "id": "549c8caa",
   "metadata": {},
   "source": [
    "## Buildings Timeseries"
   ]
  },
  {
   "cell_type": "code",
   "execution_count": null,
   "id": "681dbc99",
   "metadata": {},
   "outputs": [],
   "source": [
    "buildings2 = pd.read_csv(\"./data/processed_buildings/buildings_tanda2.csv\")"
   ]
  },
  {
   "cell_type": "markdown",
   "id": "fb6c6e10",
   "metadata": {},
   "source": [
    "## Weather data"
   ]
  },
  {
   "cell_type": "code",
   "execution_count": null,
   "id": "2449c098",
   "metadata": {},
   "outputs": [],
   "source": [
    "weather_data = pd.read_csv(\"/Users/adrian/Documents/ICAI/4o/AI Lab/data/G2500170_2018.csv\")"
   ]
  },
  {
   "cell_type": "markdown",
   "id": "be482b3b",
   "metadata": {},
   "source": [
    "# Create Windows"
   ]
  },
  {
   "cell_type": "code",
   "execution_count": null,
   "id": "68d1c241",
   "metadata": {},
   "outputs": [],
   "source": [
    "windows2 = create_windows(buildings2, resstock_processed, window_size=8)"
   ]
  },
  {
   "cell_type": "code",
   "execution_count": null,
   "id": "6a0c60e8",
   "metadata": {},
   "outputs": [],
   "source": [
    "# Save to pickle file\n",
    "with open(\"./data/training_windows/windows2.pkl\", \"wb\") as f:\n",
    "    pickle.dump(windows2, f)"
   ]
  },
  {
   "cell_type": "markdown",
   "id": "92cdddcb",
   "metadata": {},
   "source": [
    "## Weather"
   ]
  },
  {
   "cell_type": "code",
   "execution_count": null,
   "id": "7c6f0122",
   "metadata": {},
   "outputs": [],
   "source": [
    "# Change date time column name to timestamp\n",
    "weather_data.rename(columns={'date_time': \"timestamp\"}, inplace=True)\n",
    "weather_data.set_index('timestamp', inplace=True)\n",
    "weather_data.index = pd.to_datetime(weather_data.index)"
   ]
  },
  {
   "cell_type": "code",
   "execution_count": null,
   "id": "3dcd6933",
   "metadata": {},
   "outputs": [],
   "source": [
    "# Delete all columns except dry bulb temperature and direct normal radiation\n",
    "weather_data = weather_data[[\"Dry Bulb Temperature [°C]\", \"Direct Normal Radiation [W/m2]\"]]\n",
    "weather_data.rename(columns={\"Dry Bulb Temperature [°C]\": \"temperature\"}, inplace=True)"
   ]
  },
  {
   "cell_type": "code",
   "execution_count": null,
   "id": "d017a537",
   "metadata": {},
   "outputs": [],
   "source": [
    "# Create an entry for 2018-01-01 00:00:00\n",
    "new_row = pd.DataFrame({'temperature': weather_data.iloc[0]['temperature']}, index=[pd.to_datetime('2018-01-01 00:00:00')])\n",
    "weather_data = pd.concat([new_row, weather_data])"
   ]
  },
  {
   "cell_type": "code",
   "execution_count": null,
   "id": "bae8a5a5",
   "metadata": {},
   "outputs": [],
   "source": [
    "weather_data.bfill(inplace=True)\n",
    "weather_data.ffill(inplace=True)"
   ]
  }
 ],
 "metadata": {
  "kernelspec": {
   "display_name": ".env",
   "language": "python",
   "name": "python3"
  },
  "language_info": {
   "codemirror_mode": {
    "name": "ipython",
    "version": 3
   },
   "file_extension": ".py",
   "mimetype": "text/x-python",
   "name": "python",
   "nbconvert_exporter": "python",
   "pygments_lexer": "ipython3",
   "version": "3.10.11"
  }
 },
 "nbformat": 4,
 "nbformat_minor": 5
}
