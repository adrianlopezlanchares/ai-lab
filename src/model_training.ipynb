{
 "cells": [
  {
   "cell_type": "code",
   "execution_count": 1,
   "id": "bb7cc12f",
   "metadata": {},
   "outputs": [],
   "source": [
    "import numpy as np\n",
    "import pickle\n",
    "import torch\n",
    "from torch.utils.data import DataLoader\n",
    "from torch.utils.tensorboard import SummaryWriter\n",
    "\n",
    "from data_processing import train_test_split\n",
    "from train_functions import train_mlp, evaluate_mlp\n",
    "from models import MLP"
   ]
  },
  {
   "cell_type": "markdown",
   "id": "6ace867c",
   "metadata": {},
   "source": [
    "# Load data"
   ]
  },
  {
   "cell_type": "code",
   "execution_count": 2,
   "id": "988d6f85",
   "metadata": {},
   "outputs": [],
   "source": [
    "windows0_path = \"/Users/cocoloco/Library/Mobile Documents/com~apple~CloudDocs/Documents/ICAI/4o/AI Lab/data/training_windows/windows0.pkl\"\n",
    "with open(windows0_path, \"rb\") as f:\n",
    "    windows = pickle.load(f)"
   ]
  },
  {
   "cell_type": "code",
   "execution_count": 3,
   "id": "acc11a5b",
   "metadata": {},
   "outputs": [],
   "source": [
    "# windows1_path = \"/Users/cocoloco/Library/Mobile Documents/com~apple~CloudDocs/Documents/ICAI/4o/AI Lab/data/training_windows/windows1.pkl\"\n",
    "# with open(windows1_path, \"rb\") as f:\n",
    "#     windows = pickle.load(f)"
   ]
  },
  {
   "cell_type": "code",
   "execution_count": 4,
   "id": "f5821f4a",
   "metadata": {},
   "outputs": [],
   "source": [
    "# windows2_path = \"/Users/cocoloco/Library/Mobile Documents/com~apple~CloudDocs/Documents/ICAI/4o/AI Lab/data/training_windows/windows2.pkl\"\n",
    "# with open(windows2_path, \"rb\") as f:\n",
    "#     windows = pickle.load(f)"
   ]
  },
  {
   "cell_type": "markdown",
   "id": "f27363df",
   "metadata": {},
   "source": [
    "# MLP"
   ]
  },
  {
   "cell_type": "markdown",
   "id": "7438f85c",
   "metadata": {},
   "source": [
    "## Create dataset and dataloader"
   ]
  },
  {
   "cell_type": "code",
   "execution_count": 5,
   "id": "22aff4a3",
   "metadata": {},
   "outputs": [],
   "source": [
    "mlp_train_dataset, mlp_test_dataset = train_test_split(windows, test_size=0.2, model=\"mlp\")"
   ]
  },
  {
   "cell_type": "code",
   "execution_count": 6,
   "id": "fd188134",
   "metadata": {},
   "outputs": [],
   "source": [
    "mlp_train_loader = DataLoader(mlp_train_dataset, batch_size=64, shuffle=False)\n",
    "mlp_test_loader = DataLoader(mlp_test_dataset, batch_size=64, shuffle=False)"
   ]
  },
  {
   "cell_type": "markdown",
   "id": "ed472c92",
   "metadata": {},
   "source": [
    "## Model, criterion and optimizer"
   ]
  },
  {
   "cell_type": "code",
   "execution_count": 7,
   "id": "a820f65c",
   "metadata": {},
   "outputs": [],
   "source": [
    "# hyperparameters\n",
    "mlp_input_size = windows[0].shape[1]\n",
    "mlp_hidden_sizes = [128, 64, 32]\n",
    "mlp_output_size = 1  # Adjust based on your data\n",
    "mlp_learning_rate = 1e-3\n",
    "\n",
    "device = torch.device(\"mps\" if torch.backends.mps.is_available() else \"cpu\")"
   ]
  },
  {
   "cell_type": "code",
   "execution_count": 8,
   "id": "029bf2a6",
   "metadata": {},
   "outputs": [],
   "source": [
    "model_name = \"mlp_1\""
   ]
  },
  {
   "cell_type": "code",
   "execution_count": 9,
   "id": "5b2c444f",
   "metadata": {},
   "outputs": [
    {
     "data": {
      "text/plain": [
       "MLP(\n",
       "  (fc1): Linear(in_features=37, out_features=128, bias=True)\n",
       "  (hidden_layers): ModuleList(\n",
       "    (0): Linear(in_features=128, out_features=64, bias=True)\n",
       "    (1): Linear(in_features=64, out_features=32, bias=True)\n",
       "  )\n",
       "  (fc2): Linear(in_features=32, out_features=1, bias=True)\n",
       ")"
      ]
     },
     "execution_count": 9,
     "metadata": {},
     "output_type": "execute_result"
    }
   ],
   "source": [
    "mlp_model = MLP(input_size=mlp_input_size, hidden_sizes=mlp_hidden_sizes, output_size=mlp_output_size)\n",
    "mlp_model.to(device)"
   ]
  },
  {
   "cell_type": "code",
   "execution_count": 10,
   "id": "70905b7c",
   "metadata": {},
   "outputs": [],
   "source": [
    "mlp_criterion = torch.nn.MSELoss()\n",
    "mlp_optimizer = torch.optim.Adam(mlp_model.parameters(), lr=mlp_learning_rate)"
   ]
  },
  {
   "cell_type": "markdown",
   "id": "042e68f4",
   "metadata": {},
   "source": [
    "## Train model"
   ]
  },
  {
   "cell_type": "code",
   "execution_count": 11,
   "id": "949fbb1c",
   "metadata": {},
   "outputs": [],
   "source": [
    "# Create SummaryWriter\n",
    "mlp_writer = SummaryWriter(log_dir=f\"../runs/{model_name}\")"
   ]
  },
  {
   "cell_type": "code",
   "execution_count": 12,
   "id": "9b939da9",
   "metadata": {},
   "outputs": [],
   "source": [
    "# hyperparameters\n",
    "mlp_num_epochs = 1"
   ]
  },
  {
   "cell_type": "code",
   "execution_count": null,
   "id": "457495fe",
   "metadata": {},
   "outputs": [
    {
     "name": "stdout",
     "output_type": "stream",
     "text": [
      "Epoch 1/1, Step 1/437900         \r"
     ]
    }
   ],
   "source": [
    "train_loss = train_mlp(mlp_model, mlp_train_loader, mlp_criterion, mlp_optimizer, device, epochs=mlp_num_epochs, writer=mlp_writer)"
   ]
  }
 ],
 "metadata": {
  "kernelspec": {
   "display_name": ".env",
   "language": "python",
   "name": "python3"
  },
  "language_info": {
   "codemirror_mode": {
    "name": "ipython",
    "version": 3
   },
   "file_extension": ".py",
   "mimetype": "text/x-python",
   "name": "python",
   "nbconvert_exporter": "python",
   "pygments_lexer": "ipython3",
   "version": "3.11.9"
  }
 },
 "nbformat": 4,
 "nbformat_minor": 5
}
