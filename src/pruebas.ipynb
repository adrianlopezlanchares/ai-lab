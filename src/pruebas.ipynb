{
 "cells": [
  {
   "cell_type": "code",
   "execution_count": 1,
   "id": "966194ce",
   "metadata": {},
   "outputs": [],
   "source": [
    "import pandas as pd\n",
    "import pickle\n",
    "\n",
    "from data_processing import process_resstock_data, merge_building_data, create_windows"
   ]
  },
  {
   "cell_type": "markdown",
   "id": "a4b8272a",
   "metadata": {},
   "source": [
    "# Load data"
   ]
  },
  {
   "cell_type": "markdown",
   "id": "356120a1",
   "metadata": {},
   "source": [
    "## ResStock"
   ]
  },
  {
   "cell_type": "code",
   "execution_count": 2,
   "id": "65dd2732",
   "metadata": {},
   "outputs": [],
   "source": [
    "resstock = pd.read_parquet(\"/Users/adrian/Documents/ICAI/4o/AI Lab/data/MA_baseline_metadata_and_annual_results.parquet\")"
   ]
  },
  {
   "cell_type": "markdown",
   "id": "549c8caa",
   "metadata": {},
   "source": [
    "## Buildings Timeseries"
   ]
  },
  {
   "cell_type": "code",
   "execution_count": 3,
   "id": "681dbc99",
   "metadata": {},
   "outputs": [],
   "source": [
    "buildings1 = pd.read_csv(\"/Users/adrian/Documents/ICAI/4o/AI Lab/data/processed_buildings/buildings_tanda0.csv\")"
   ]
  },
  {
   "cell_type": "markdown",
   "id": "fb6c6e10",
   "metadata": {},
   "source": [
    "## Weather data"
   ]
  },
  {
   "cell_type": "code",
   "execution_count": null,
   "id": "2449c098",
   "metadata": {},
   "outputs": [],
   "source": [
    "weather_data = pd.read_csv(\"/Users/adrian/Documents/ICAI/4o/AI Lab/data/G2500170_2018.csv\")"
   ]
  },
  {
   "cell_type": "markdown",
   "id": "be482b3b",
   "metadata": {},
   "source": [
    "# Process data"
   ]
  },
  {
   "cell_type": "markdown",
   "id": "12c1526f",
   "metadata": {},
   "source": [
    "## ResStock"
   ]
  },
  {
   "cell_type": "code",
   "execution_count": 4,
   "id": "b55aeb44",
   "metadata": {},
   "outputs": [],
   "source": [
    "columns_processed = [\n",
    "    \"in.bedrooms_processed\",              # int\n",
    "    \"in.duct_leakage_processed\",\n",
    "    \"in.duct_insulation_processed\",    # Separate into leakage / insulation: X% / (Uniinsulated/R-n)\n",
    "    \"in.duct_location_processed\",         # Places of the house\n",
    "    \"in.geometry_floor_area_processed\",   # 1000-1499, ...\n",
    "    \"in.geometry_stories_processed\",      # int\n",
    "    \"in.geometry_wall_type_processed\",    # Materials\n",
    "    \"in.ground_thermal_conductivity_processed\",   # float\n",
    "    \"in.hvac_has_ducts_processed\",    # Yes / No\n",
    "    \"in.insulation_ceiling_processed\",    # R-n / Uninsulated\n",
    "    \"in.insulation_floor_processed\",      # R-n / Uninsulated\n",
    "    \"in.insulation_foundation_wall_processed\",    # Wall R-n, Exterior\n",
    "    \"in.insulation_roof_processed\",       # Finished / Unfinished, R-n\n",
    "    \"in.insulation_wall_processed\",       # Material, Uninsulated / R-n\n",
    "    \"in.occupants_processed\",         # int\n",
    "    \"in.orientation_processed\",       # North, Northwest...\n",
    "    \"in.roof_material_processed\",     # Material\n",
    "    \"in.sqft_processed\",              # int\n",
    "    \"in.windows_processed\", # Single/Double/Triple, Low-E/Clear, Metal/Non-metal, Air/Exterior Clear Storm, (L/M-Gain)\n",
    "    \"in.window_areas_processed\",\n",
    "    \"in.vintage_processed\",\n",
    "    \n",
    "]"
   ]
  },
  {
   "cell_type": "code",
   "execution_count": 5,
   "id": "9cee38bd",
   "metadata": {},
   "outputs": [],
   "source": [
    "resstock_processed = process_resstock_data(resstock)\n",
    "resstock_processed = resstock_processed[columns_processed]"
   ]
  },
  {
   "cell_type": "code",
   "execution_count": null,
   "id": "68d1c241",
   "metadata": {},
   "outputs": [
    {
     "name": "stdout",
     "output_type": "stream",
     "text": [
      "13846638/35040000               \r"
     ]
    }
   ],
   "source": [
    "windows = create_windows(buildings1, resstock_processed, window_size=2)"
   ]
  },
  {
   "cell_type": "code",
   "execution_count": null,
   "id": "6a0c60e8",
   "metadata": {},
   "outputs": [],
   "source": [
    "# Save to pickle file\n",
    "with open(\"/Users/adrian/Documents/ICAI/4o/AI Lab/data/windows1.pkl\", \"wb\") as f:\n",
    "    pickle.dump(windows, f)"
   ]
  },
  {
   "cell_type": "markdown",
   "id": "92cdddcb",
   "metadata": {},
   "source": [
    "## Weather"
   ]
  },
  {
   "cell_type": "code",
   "execution_count": null,
   "id": "7c6f0122",
   "metadata": {},
   "outputs": [],
   "source": [
    "# Change date time column name to timestamp\n",
    "weather_data.rename(columns={'date_time': \"timestamp\"}, inplace=True)\n",
    "weather_data.set_index('timestamp', inplace=True)\n",
    "weather_data.index = pd.to_datetime(weather_data.index)"
   ]
  },
  {
   "cell_type": "code",
   "execution_count": null,
   "id": "3dcd6933",
   "metadata": {},
   "outputs": [],
   "source": [
    "# Delete all columns except dry bulb temperature and direct normal radiation\n",
    "weather_data = weather_data[[\"Dry Bulb Temperature [°C]\", \"Direct Normal Radiation [W/m2]\"]]\n",
    "weather_data.rename(columns={\"Dry Bulb Temperature [°C]\": \"temperature\"}, inplace=True)"
   ]
  },
  {
   "cell_type": "code",
   "execution_count": null,
   "id": "d017a537",
   "metadata": {},
   "outputs": [],
   "source": [
    "# Create an entry for 2018-01-01 00:00:00\n",
    "new_row = pd.DataFrame({'temperature': weather_data.iloc[0]['temperature']}, index=[pd.to_datetime('2018-01-01 00:00:00')])\n",
    "weather_data = pd.concat([new_row, weather_data])"
   ]
  },
  {
   "cell_type": "code",
   "execution_count": null,
   "id": "bae8a5a5",
   "metadata": {},
   "outputs": [],
   "source": [
    "weather_data.bfill(inplace=True)\n",
    "weather_data.ffill(inplace=True)"
   ]
  }
 ],
 "metadata": {
  "kernelspec": {
   "display_name": ".env",
   "language": "python",
   "name": "python3"
  },
  "language_info": {
   "codemirror_mode": {
    "name": "ipython",
    "version": 3
   },
   "file_extension": ".py",
   "mimetype": "text/x-python",
   "name": "python",
   "nbconvert_exporter": "python",
   "pygments_lexer": "ipython3",
   "version": "3.10.11"
  }
 },
 "nbformat": 4,
 "nbformat_minor": 5
}
